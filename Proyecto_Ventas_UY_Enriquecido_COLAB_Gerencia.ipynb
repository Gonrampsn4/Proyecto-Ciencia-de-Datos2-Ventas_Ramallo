{
  "cells": [
    {
      "cell_type": "markdown",
      "metadata": {},
      "source": [
        "# Proyecto Ciencia de Datos 2 – Ventas (UY)\n",
        "\n",
        "**Enriquecimiento con datos públicos (INE/CKAN + SNIG)**  \n",
        "**Fecha:** 2025-10-23\n",
        "\n",
        "> **Propósito ejecutivo:** identificar **dónde** vendemos mejor/peor y **por qué**, usando contexto público de Uruguay.  \n",
        "> **Audiencia:** Gerencia de Ventas (enfoque en insights y acciones, no en jerga técnica).\n"
      ]
    },
    {
      "cell_type": "markdown",
      "metadata": {},
      "source": [
        "## Abstracto (motivación y audiencia)\n",
        "- **Qué buscamos:** explicar diferencias de ventas entre **departamentos** de Uruguay.\n",
        "- **Cómo lo hacemos:** enriquecemos el dataset de ventas con **Población** (INE/CKAN) y una **proxy de actividad económica** (**Empresas** por departamento, archivo público). Creamos:\n",
        "  - `intensidad_mercado` = ventas per cápita\n",
        "  - `nivel_desarrollo_regional` = promedio de *z-scores* de Población y Empresas\n",
        "- **Para quién:** Gerencia de Ventas, a fin de tomar decisiones de **cobertura, promociones y expansión**.\n"
      ]
    },
    {
      "cell_type": "markdown",
      "metadata": {},
      "source": [
        "## Resumen de metadata (qué datos usamos)\n",
        "- **Ventas (CSV del proyecto):** registros transaccionales con Departamento y valor de venta.\n",
        "- **Población por Departamento (INE/CKAN, CSV).**\n",
        "- **Empresas por Departamento (Excel público; se agrupa para obtener conteo).**\n",
        "- **Geometría de Departamentos (SNIG ArcGIS, GeoJSON)** para visualizar mapa.\n",
        "En las celdas siguientes se imprimen **filas/columnas** y **tipos** principales.\n"
      ]
    },
    {
      "cell_type": "markdown",
      "metadata": {},
      "source": [
        "## 1) Instalar dependencias (ejecutar una vez por sesión en Colab)"
      ]
    },
    {
      "cell_type": "code",
      "metadata": {},
      "execution_count": null,
      "outputs": [],
      "source": [
        "!pip install -q pandas numpy requests geopandas pyproj shapely mapclassify matplotlib openpyxl scipy\n"
      ]
    },
    {
      "cell_type": "markdown",
      "metadata": {},
      "source": [
        "## 2) Importar librerías"
      ]
    },
    {
      "cell_type": "code",
      "metadata": {},
      "execution_count": null,
      "outputs": [],
      "source": [
        "import pandas as pd\n",
        "import numpy as np\n",
        "import requests, io, json\n",
        "import matplotlib.pyplot as plt\n",
        "\n",
        "import geopandas as gpd\n",
        "import mapclassify as mc\n",
        "\n",
        "plt.rcParams['figure.figsize']=(7,5)\n",
        "plt.rcParams['axes.grid']=True\n"
      ]
    },
    {
      "cell_type": "markdown",
      "metadata": {},
      "source": [
        "## 3) Preguntas / Hipótesis\n",
        "1. ¿Qué departamentos muestran **mayor intensidad de mercado** (ventas per cápita)?  \n",
        "2. ¿Existe relación entre **Empresas** (proxy de actividad económica) y **Ventas**?  \n",
        "3. ¿Cómo cambia el desempeño por región al considerar un **nivel de desarrollo regional** (población + empresas)?\n"
      ]
    },
    {
      "cell_type": "markdown",
      "metadata": {},
      "source": [
        "## 4) Fuentes públicas (APIs/descargas)"
      ]
    },
    {
      "cell_type": "code",
      "metadata": {},
      "execution_count": null,
      "outputs": [],
      "source": [
        "ventas_url = \"https://raw.githubusercontent.com/Gonrampsn4/Proyecto-Ciencia-de-Datos2-Ventas_Ramallo/main/dataset_ventas_3000.csv\"\n",
        "poblacion_url = \"https://catalogodatos.gub.uy/dataset/7e7c97c8-a7cc-4f1f-9c85-a2c25ae28141/resource/5e1cf37b-201e-43b7-a5ba-66ee0e64e4d0/download/datosbasicosjds.csv\"\n",
        "empresas_xlsx_url = \"https://catalogodatos.gub.uy/dataset/575ccb87-ae74-4dcd-ba4b-cf050bd8e08a/resource/e8e6f2e4-357e-4027-b91a-407b5d5501f7/download/empresasdei_20230330.xlsx\"\n",
        "departamentos_geojson_url = \"https://web.snig.gub.uy/arcgisserver/rest/services/Uruguay/SNIG_Catastro/MapServer/2/query?where=1%3D1&outFields=Nombre&outSR=4326&f=geojson\"\n",
        "\n",
        "ventas     = pd.read_csv(ventas_url)\n",
        "poblacion  = pd.read_csv(poblacion_url)\n",
        "emp_resp   = requests.get(empresas_xlsx_url); emp_resp.raise_for_status()\n",
        "empresas   = pd.read_excel(io.BytesIO(emp_resp.content))\n",
        "geojson    = requests.get(departamentos_geojson_url).json()\n",
        "gdf_deptos = gpd.GeoDataFrame.from_features(geojson['features'], crs='EPSG:4326').rename(columns={'Nombre':'Departamento'})\n",
        "\n",
        "print(\"Ventas:\", ventas.shape); display(ventas.head(3))\n",
        "print(\"Población:\", poblacion.shape); display(poblacion.head(3))\n",
        "print(\"Empresas:\", empresas.shape); display(empresas.head(3))\n",
        "print(\"Geometría:\", gdf_deptos.shape); gdf_deptos.head(3)\n"
      ]
    },
    {
      "cell_type": "markdown",
      "metadata": {},
      "source": [
        "### 4.1) Metadata rápida"
      ]
    },
    {
      "cell_type": "code",
      "metadata": {},
      "execution_count": null,
      "outputs": [],
      "source": [
        "def quick_info(df, name):\n",
        "    print(f\"\\n{name}: {df.shape[0]} filas × {df.shape[1]} columnas\")\n",
        "    display(df.dtypes.to_frame('dtype').head(12))\n",
        "\n",
        "quick_info(ventas, \"Ventas\")\n",
        "quick_info(poblacion, \"Población\")\n",
        "quick_info(empresas, \"Empresas\")\n"
      ]
    },
    {
      "cell_type": "markdown",
      "metadata": {},
      "source": [
        "## 5) Limpieza y estandarización por Departamento"
      ]
    },
    {
      "cell_type": "code",
      "metadata": {},
      "execution_count": null,
      "outputs": [],
      "source": [
        "def norm_depto(s):\n",
        "    if pd.isna(s): return s\n",
        "    s = str(s).strip().upper()\n",
        "    repl = {\n",
        "        \"SAN JOSÉ\": \"SAN JOSÉ\",\"SAN JOSE\":\"SAN JOSÉ\",\n",
        "        \"RIO NEGRO\":\"RÍO NEGRO\",\"RÍO NEGRO\":\"RÍO NEGRO\",\n",
        "        \"PAYSANDU\":\"PAYSANDÚ\",\"PAYSANDÚ\":\"PAYSANDÚ\",\n",
        "        \"TACUAREMBO\":\"TACUAREMBÓ\",\"TACUAREMBÓ\":\"TACUAREMBÓ\",\n",
        "    }\n",
        "    return repl.get(s, s)\n",
        "\n",
        "dept_cols = [c for c in ventas.columns if c.lower() in [\"departamento\",\"depto\",\"region\",\"provincia\",\"estado\"]]\n",
        "if not dept_cols:\n",
        "    raise ValueError(\"No se encontró columna de departamento en ventas. Cree/renombre 'Departamento'.\")\n",
        "ventas[\"Departamento\"] = ventas[dept_cols[0]].apply(norm_depto)\n",
        "\n",
        "pop_dept_cols = [c for c in poblacion.columns if \"depar\" in c.lower() or c.lower()==\"departamento\"]\n",
        "if not pop_dept_cols: raise ValueError(\"Población: falta columna de 'Departamento'.\")\n",
        "poblacion[\"Departamento\"] = poblacion[pop_dept_cols[0]].apply(norm_depto)\n",
        "\n",
        "cand_pop = [c for c in poblacion.columns if \"poblac\" in c.lower() or \"habit\" in c.lower()]\n",
        "if not cand_pop:\n",
        "    print(\"Columnas disponibles:\", list(poblacion.columns))\n",
        "    raise ValueError(\"Indique manualmente la columna de población.\")\n",
        "poblacion = poblacion[[\"Departamento\", cand_pop[0]]].rename(columns={cand_pop[0]:\"Poblacion\"})\n",
        "\n",
        "emp_dept_cols = [c for c in empresas.columns if \"depar\" in c.lower() or c.lower()==\"departamento\"]\n",
        "if not emp_dept_cols:\n",
        "    print(\"Columnas Excel 'empresas':\", list(empresas.columns))\n",
        "    raise ValueError(\"Empresas: falta 'Departamento'.\")\n",
        "empresas[\"Departamento\"] = empresas[emp_dept_cols[0]].apply(norm_depto)\n",
        "empresas_por_depto = empresas.groupby(\"Departamento\", as_index=False).size().rename(columns={\"size\":\"Empresas\"})\n",
        "\n",
        "contexto_depto = (poblacion.merge(empresas_por_depto, on=\"Departamento\", how=\"left\"))\n",
        "contexto_depto[\"Empresas\"] = pd.to_numeric(contexto_depto[\"Empresas\"], errors=\"coerce\").fillna(0).astype(int)\n",
        "contexto_depto.head()\n"
      ]
    },
    {
      "cell_type": "markdown",
      "metadata": {},
      "source": [
        "## 6) Agregación de ventas y nuevas métricas"
      ]
    },
    {
      "cell_type": "code",
      "metadata": {},
      "execution_count": null,
      "outputs": [],
      "source": [
        "import re\n",
        "from scipy.stats import zscore\n",
        "\n",
        "for c in ventas.columns:\n",
        "    if any(k in c.lower() for k in [\"fecha\",\"date\",\"dia\"]):\n",
        "        ventas[c] = pd.to_datetime(ventas[c], errors=\"coerce\")\n",
        "\n",
        "def to_numeric_safe_col(col: pd.Series) -> pd.Series:\n",
        "    s = col.astype(str).str.strip()\n",
        "    s = (s.str.replace(\"UYU\",\"\",regex=False)\n",
        "           .str.replace(\"USD\",\"\",regex=False)\n",
        "           .str.replace(\"$\",\"\",regex=False)\n",
        "           .str.strip())\n",
        "    s = s.str.replace(\".\",\"\",regex=False)\n",
        "    s = s.str.replace(\",\",\".\",regex=False)\n",
        "    s = s.str.replace(r\"[^0-9\\.-]\",\"\",regex=True)\n",
        "    return pd.to_numeric(s, errors=\"coerce\")\n",
        "\n",
        "keywords_valor = [\"monto\",\"importe\",\"total\",\"precio\",\"price\",\"amount\"]\n",
        "candidatas = [c for c in ventas.columns if any(k in c.lower() for k in keywords_valor)]\n",
        "\n",
        "candidatas_info = []\n",
        "for c in candidatas:\n",
        "    num_col = to_numeric_safe_col(ventas[c])\n",
        "    notnulls = num_col.notna().sum()\n",
        "    candidatas_info.append((c, notnulls, num_col))\n",
        "\n",
        "if candidatas_info:\n",
        "    candidatas_info.sort(key=lambda x: x[1], reverse=True)\n",
        "    monto_col, _, monto_num = candidatas_info[0]\n",
        "else:\n",
        "    posibles = []\n",
        "    for c in ventas.columns:\n",
        "        if not any(k in c.lower() for k in [\"id\",\"codigo\",\"cod\",\"nro\",\"numero\"]):\n",
        "            num_col = to_numeric_safe_col(ventas[c])\n",
        "            if num_col.notna().sum() > 0:\n",
        "                posibles.append((c, num_col.notna().sum(), num_col))\n",
        "    if not posibles: raise ValueError(\"No se encontró columna usable como valor de venta.\")\n",
        "    posibles.sort(key=lambda x: x[1], reverse=True)\n",
        "    monto_col, _, monto_num = posibles[0]\n",
        "\n",
        "print(\"Usando columna de valor de venta:\", monto_col)\n",
        "ventas[monto_col] = monto_num.fillna(0)\n",
        "\n",
        "ventas_depto = (ventas\n",
        "    .groupby(\"Departamento\", as_index=False)\n",
        "    .agg(ventas_total=(monto_col,\"sum\"),\n",
        "         operaciones=(\"Departamento\",\"size\"))\n",
        ")\n",
        "ventas_depto[\"ticket_promedio\"] = ventas_depto[\"ventas_total\"]/ventas_depto[\"operaciones\"].replace(0, pd.NA)\n",
        "\n",
        "contexto_depto[\"Poblacion\"] = pd.to_numeric(contexto_depto[\"Poblacion\"], errors=\"coerce\")\n",
        "panel = ventas_depto.merge(contexto_depto, on=\"Departamento\", how=\"left\")\n",
        "panel[\"Poblacion\"] = panel[\"Poblacion\"].replace(0, pd.NA)\n",
        "panel[\"intensidad_mercado\"] = panel[\"ventas_total\"] / panel[\"Poblacion\"]\n",
        "\n",
        "panel[\"z_pop\"] = zscore(panel[\"Poblacion\"].fillna(panel[\"Poblacion\"].median()))\n",
        "panel[\"z_emp\"] = zscore(panel[\"Empresas\"].fillna(panel[\"Empresas\"].median()))\n",
        "panel[\"nivel_desarrollo_regional\"] = (panel[\"z_pop\"] + panel[\"z_emp\"])/2.0\n",
        "\n",
        "panel.sort_values(\"ventas_total\", ascending=False).head()\n"
      ]
    },
    {
      "cell_type": "markdown",
      "metadata": {},
      "source": [
        "## 7) Visualizaciones ejecutivas (EDA)"
      ]
    },
    {
      "cell_type": "code",
      "metadata": {},
      "execution_count": null,
      "outputs": [],
      "source": [
        "num_cols = [\"ventas_total\",\"operaciones\",\"ticket_promedio\",\"Poblacion\",\"Empresas\",\"intensidad_mercado\",\"nivel_desarrollo_regional\"]\n",
        "corr = panel[num_cols].corr(numeric_only=True)\n",
        "\n",
        "plt.figure()\n",
        "plt.imshow(corr, interpolation='nearest')\n",
        "plt.xticks(range(len(num_cols)), num_cols, rotation=45, ha='right')\n",
        "plt.yticks(range(len(num_cols)), num_cols)\n",
        "plt.colorbar()\n",
        "plt.title(\"Matriz de correlaciones\")\n",
        "plt.tight_layout()\n",
        "plt.show()\n",
        "\n",
        "plt.figure()\n",
        "plt.scatter(panel[\"Empresas\"], panel[\"ventas_total\"])\n",
        "plt.xlabel(\"Empresas (proxy actividad)\")\n",
        "plt.ylabel(\"Ventas totales\")\n",
        "plt.title(\"Ventas vs. Empresas por departamento\")\n",
        "plt.tight_layout()\n",
        "plt.show()\n"
      ]
    },
    {
      "cell_type": "markdown",
      "metadata": {},
      "source": [
        "## 8) Mapa coroplético: intensidad de mercado"
      ]
    },
    {
      "cell_type": "code",
      "metadata": {},
      "execution_count": null,
      "outputs": [],
      "source": [
        "gdf_deptos[\"Departamento\"] = gdf_deptos[\"Departamento\"].str.upper()\n",
        "gdf_deptos[\"Departamento\"] = (gdf_deptos[\"Departamento\"]\n",
        "    .str.replace(\"RIO NEGRO\",\"RÍO NEGRO\",regex=False)\n",
        "    .str.replace(\"PAYSANDU\",\"PAYSANDÚ\",regex=False)\n",
        "    .str.replace(\"TACUAREMBO\",\"TACUAREMBÓ\",regex=False)\n",
        "    .str.replace(\"SAN JOSE\",\"SAN JOSÉ\",regex=False)\n",
        ")\n",
        "gdf_panel = gdf_deptos.merge(panel, on=\"Departamento\", how=\"left\")\n",
        "\n",
        "ax = gdf_panel.plot(column=\"intensidad_mercado\", legend=True, figsize=(7,7),\n",
        "                    scheme=\"Quantiles\", k=5, linewidth=0.5, edgecolor=\"black\")\n",
        "ax.set_title(\"Intensidad de mercado (ventas per cápita) por departamento\")\n",
        "ax.axis(\"off\")\n",
        "plt.show()\n"
      ]
    },
    {
      "cell_type": "markdown",
      "metadata": {},
      "source": [
        "## 9) Insights (hallazgos para Gerencia) — auto-generados"
      ]
    },
    {
      "cell_type": "code",
      "metadata": {},
      "execution_count": null,
      "outputs": [],
      "source": [
        "import numpy as np\n",
        "\n",
        "top_int = (panel[['Departamento','intensidad_mercado']]\n",
        "           .dropna()\n",
        "           .sort_values('intensidad_mercado', ascending=False)\n",
        "           .head(5))\n",
        "corr_emp = panel[['ventas_total','Empresas']].corr(numeric_only=True).iloc[0,1]\n",
        "\n",
        "rk_ventas = panel[['Departamento','ventas_total']].sort_values('ventas_total', ascending=False).reset_index(drop=True)\n",
        "rk_ventas['rk_ventas'] = np.arange(1, len(rk_ventas)+1)\n",
        "rk_desarr = panel[['Departamento','nivel_desarrollo_regional']].sort_values('nivel_desarrollo_regional', ascending=False).reset_index(drop=True)\n",
        "rk_desarr['rk_desarrollo'] = np.arange(1, len(rk_desarr)+1)\n",
        "ranks = rk_ventas.merge(rk_desarr, on='Departamento', how='outer')\n",
        "ranks['delta_rk'] = ranks['rk_desarrollo'] - ranks['rk_ventas']\n",
        "ranks = ranks.sort_values('delta_rk', ascending=False)\n",
        "\n",
        "suben = ranks[ranks['delta_rk']>0].head(3)\n",
        "bajan = ranks[ranks['delta_rk']<0].tail(3)\n",
        "\n",
        "reco = []\n",
        "if corr_emp >= 0.5:\n",
        "    reco.append(\"Fuerte asociación Empresas~Ventas → priorizar departamentos con mayor densidad empresarial.\")\n",
        "elif corr_emp >= 0.2:\n",
        "    reco.append(\"Asociación moderada → combinar cobertura comercial con generación de demanda.\")\n",
        "else:\n",
        "    reco.append(\"Baja asociación → explorar factores alternativos (mix, pricing, canales, logística).\")\n",
        "\n",
        "q75_int = panel['intensidad_mercado'].quantile(0.75)\n",
        "med_ventas = panel['ventas_total'].median()\n",
        "oportunidad = panel[(panel['intensidad_mercado']>=q75_int) & (panel['ventas_total']<=med_ventas)]\n",
        "\n",
        "print(\"INSIGHTS (para Gerencia)\\n\")\n",
        "print(\"• Top 5 por **ventas per cápita**:\")\n",
        "for _, r in top_int.iterrows():\n",
        "    print(f\"  - {r['Departamento']}: intensidad_mercado={r['intensidad_mercado']:.6f}\")\n",
        "print(f\"\\n• Relación **Ventas ~ Empresas**: Pearson = {corr_emp:.3f} \"\n",
        "      f\"({'fuerte' if abs(corr_emp)>=0.5 else 'moderada' if abs(corr_emp)>=0.2 else 'débil'})\")\n",
        "print(\"\\n• Cambios de ranking por **desarrollo regional** (rk_desarrollo - rk_ventas):\")\n",
        "if not suben.empty:\n",
        "    print(\"  ↑ Suben:\")\n",
        "    for _, r in suben.iterrows():\n",
        "        print(f\"   - {r['Departamento']}: Δrk={int(r['delta_rk'])}\")\n",
        "if not bajan.empty:\n",
        "    print(\"  ↓ Bajan:\")\n",
        "    for _, r in bajan.iterrows():\n",
        "        print(f\"   - {r['Departamento']}: Δrk={int(r['delta_rk'])}\")\n",
        "print(\"\\n• Recomendaciones:\")\n",
        "if not oportunidad.empty:\n",
        "    reco.append(\"Oportunidad: alta **intensidad** pero **ventas totales** medias/bajas → asignar inventario/promos focalizadas.\")\n",
        "for r in reco:\n",
        "    print(f\"  - {r}\")\n"
      ]
    },
    {
      "cell_type": "markdown",
      "metadata": {},
      "source": [
        "## 10) Exportar dataset enriquecido (para modelado / dashboard)"
      ]
    },
    {
      "cell_type": "code",
      "metadata": {},
      "execution_count": null,
      "outputs": [],
      "source": [
        "output_csv = \"ventas_enriquecidas_uy.csv\"\n",
        "panel.to_csv(output_csv, index=False, encoding=\"utf-8\")\n",
        "print(f\"Archivo exportado: {output_csv}\")\n"
      ]
    },
    {
      "cell_type": "markdown",
      "metadata": {},
      "source": [
        "---\n",
        "\n",
        "### Notas finales para la presentación ejecutiva\n",
        "- Enfocar **3–5 mensajes clave** (no más de 12 slides).\n",
        "- Incluir **mapa**, **dispersión** y **correlaciones** como visuales principales.\n",
        "- Terminar con **insights y acciones** (priorización por departamento, palancas: promociones, surtido, cobertura).\n"
      ]
    }
  ],
  "metadata": {
    "kernelspec": {
      "display_name": "Python 3",
      "language": "python",
      "name": "python3"
    },
    "language_info": {
      "name": "python",
      "version": "3.x"
    }
  },
  "nbformat": 4,
  "nbformat_minor": 5
}