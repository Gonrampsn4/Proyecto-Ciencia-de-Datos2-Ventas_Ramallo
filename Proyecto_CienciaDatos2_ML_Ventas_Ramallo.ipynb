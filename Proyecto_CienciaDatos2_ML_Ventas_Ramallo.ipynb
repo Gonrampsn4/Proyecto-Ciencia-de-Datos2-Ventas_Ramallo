{
  "cells": [
    {
      "cell_type": "code",
      "source": [],
      "metadata": {
        "id": "8D0EqslW5Rt3"
      },
      "id": "8D0EqslW5Rt3",
      "execution_count": null,
      "outputs": []
    },
    {
      "cell_type": "markdown",
      "id": "ef371c1e",
      "metadata": {
        "id": "ef371c1e"
      },
      "source": [
        "# Proyecto Ciencia de Datos 1 ML Ventas  - Ramallo"
      ]
    },
    {
      "cell_type": "markdown",
      "id": "40237333",
      "metadata": {
        "id": "40237333"
      },
      "source": [
        "Este notebook complementa el análisis exploratorio realizado sobre el dataset de ventas e-commerce en Uruguay.\n",
        "\n",
        "Se abordan los siguientes puntos:\n",
        "\n",
        "1. Reducción de dimensionalidad mediante selección de características.\n",
        "2. Entrenamiento de un modelo de regresión lineal.\n",
        "3. Evaluación del modelo.\n",
        "4. Análisis adicional: importancia de las variables.\n",
        "5. Conclusiones finales."
      ]
    },
    {
      "cell_type": "code",
      "execution_count": 1,
      "id": "5481fd4a",
      "metadata": {
        "id": "5481fd4a"
      },
      "outputs": [],
      "source": [
        "# Importación de librerías necesarias para análisis de datos, modelado, métricas y visualización\n",
        "import pandas as pd\n",
        "import numpy as np\n",
        "from sklearn.model_selection import train_test_split\n",
        "from sklearn.linear_model import LinearRegression\n",
        "from sklearn.preprocessing import LabelEncoder\n",
        "from sklearn.feature_selection import SelectKBest, f_regression\n",
        "from sklearn.metrics import mean_absolute_error, mean_squared_error, r2_score\n",
        "import matplotlib.pyplot as plt\n",
        "import seaborn as sns"
      ]
    },
    {
      "cell_type": "markdown",
      "id": "cc4eca61",
      "metadata": {
        "id": "cc4eca61"
      },
      "source": [
        "## Carga y preparación del dataset"
      ]
    },
    {
      "cell_type": "code",
      "execution_count": 2,
      "id": "304f3657",
      "metadata": {
        "colab": {
          "base_uri": "https://localhost:8080/"
        },
        "id": "304f3657",
        "outputId": "ac1cd611-ac11-40e1-a3a8-d889e9227cb1"
      },
      "outputs": [
        {
          "output_type": "stream",
          "name": "stdout",
          "text": [
            "Downloading...\n",
            "From: https://drive.google.com/uc?id=1BJwuCplyHOEPc99CURNXlQ4ozXQeCbOG\n",
            "To: /content/dataset_ventas_3000.csv\n",
            "\r  0% 0.00/725k [00:00<?, ?B/s]\r100% 725k/725k [00:00<00:00, 9.52MB/s]\n"
          ]
        }
      ],
      "source": [
        "# Se carga el dataset en un DataFrame\n",
        "!gdown 1BJwuCplyHOEPc99CURNXlQ4ozXQeCbOG\n",
        "df = pd.read_csv('dataset_ventas_3000.csv')\n",
        "\n",
        "# Se transforma la columna de fecha a tipo datetime\n",
        "df[\"Fecha_Venta\"] = pd.to_datetime(df[\"Fecha_Venta\"], dayfirst=True, errors=\"coerce\")\n",
        "\n",
        "# Se extraen componentes temporales útiles para el análisis\n",
        "df[\"Año\"] = df[\"Fecha_Venta\"].dt.year\n",
        "df[\"Mes\"] = df[\"Fecha_Venta\"].dt.month\n",
        "df[\"Día\"] = df[\"Fecha_Venta\"].dt.day\n",
        "\n",
        "# Se eliminan columnas no necesarias para el modelado\n",
        "df_model = df.drop(columns=[\"ID\", \"Nombre_Producto\", \"Cliente\", \"Email_Cliente\", \"Teléfono\", \"Fecha_Venta\"])\n",
        "\n",
        "# Las variables categóricas se transforman a valores numéricos usando LabelEncoder\n",
        "le = LabelEncoder()\n",
        "for col in df_model.select_dtypes(include=\"object\").columns:\n",
        "    df_model[col] = le.fit_transform(df_model[col])\n",
        "\n",
        "# Se eliminan las filas que contengan valores nulos\n",
        "df_model = df_model.dropna()"
      ]
    },
    {
      "cell_type": "markdown",
      "id": "28aa890c",
      "metadata": {
        "id": "28aa890c"
      },
      "source": [
        "*Este bloque realiza una limpieza básica y convierte los datos a un formato adecuado para su análisis: se extraen variables de fecha, se codifican variables categóricas y se eliminan columnas irrelevantes.*"
      ]
    },
    {
      "cell_type": "markdown",
      "id": "cef6cd94",
      "metadata": {
        "id": "cef6cd94"
      },
      "source": [
        "## Selección de características"
      ]
    },
    {
      "cell_type": "code",
      "execution_count": 3,
      "id": "bfac284c",
      "metadata": {
        "colab": {
          "base_uri": "https://localhost:8080/"
        },
        "id": "bfac284c",
        "outputId": "b942df50-d070-4987-b264-7fa7d355e955"
      },
      "outputs": [
        {
          "output_type": "stream",
          "name": "stdout",
          "text": [
            "Variables seleccionadas: ['Subcategoría', 'Precio', 'Cantidad', 'Tipo_Venta', 'Método_Pago', 'Opinión', 'Año', 'Día']\n"
          ]
        }
      ],
      "source": [
        "# Se separan las variables predictoras y la variable objetivo\n",
        "X = df_model.drop(columns=[\"Total_Venta\"])\n",
        "y = df_model[\"Total_Venta\"]\n",
        "\n",
        "# Se aplica SelectKBest con f_regression para elegir las 8 variables más relevantes\n",
        "selector = SelectKBest(score_func=f_regression, k=8)\n",
        "X_selected = selector.fit_transform(X, y)\n",
        "selected_features = X.columns[selector.get_support()].tolist()\n",
        "\n",
        "print(\"Variables seleccionadas:\", selected_features)"
      ]
    },
    {
      "cell_type": "markdown",
      "id": "f0255179",
      "metadata": {
        "id": "f0255179"
      },
      "source": [
        "*Aquí se aplica una técnica de reducción de dimensionalidad para identificar las 8 variables con mayor poder explicativo respecto al total de venta (`Total_Venta`).*"
      ]
    },
    {
      "cell_type": "markdown",
      "id": "8c61accb",
      "metadata": {
        "id": "8c61accb"
      },
      "source": [
        "## Entrenamiento del modelo de regresión lineal"
      ]
    },
    {
      "cell_type": "code",
      "execution_count": 4,
      "id": "51661fc9",
      "metadata": {
        "id": "51661fc9"
      },
      "outputs": [],
      "source": [
        "# Se dividen los datos en entrenamiento y prueba\n",
        "X_train, X_test, y_train, y_test = train_test_split(df_model[selected_features], y, test_size=0.2, random_state=42)\n",
        "\n",
        "# Se entrena el modelo de regresión lineal\n",
        "modelo = LinearRegression()\n",
        "modelo.fit(X_train, y_train)\n",
        "\n",
        "# Se realizan predicciones sobre los datos de prueba\n",
        "y_pred = modelo.predict(X_test)"
      ]
    },
    {
      "cell_type": "markdown",
      "id": "251dd93d",
      "metadata": {
        "id": "251dd93d"
      },
      "source": [
        "*En este bloque se entrena un modelo de regresión lineal y se obtienen predicciones para los datos de prueba.*"
      ]
    },
    {
      "cell_type": "markdown",
      "id": "edd3142c",
      "metadata": {
        "id": "edd3142c"
      },
      "source": [
        "## Evaluación del modelo"
      ]
    },
    {
      "cell_type": "code",
      "execution_count": 5,
      "id": "712df869",
      "metadata": {
        "colab": {
          "base_uri": "https://localhost:8080/"
        },
        "id": "712df869",
        "outputId": "825fa883-c885-4ab1-c2f3-c4dbb9093516"
      },
      "outputs": [
        {
          "output_type": "stream",
          "name": "stdout",
          "text": [
            "MAE: 57559.70\n",
            "RMSE: 75529.38\n",
            "R²: 0.8842\n"
          ]
        }
      ],
      "source": [
        "# Se calculan métricas de error y rendimiento del modelo\n",
        "mae = mean_absolute_error(y_test, y_pred)\n",
        "rmse = np.sqrt(mean_squared_error(y_test, y_pred))\n",
        "r2 = r2_score(y_test, y_pred)\n",
        "\n",
        "print(f\"MAE: {mae:.2f}\")\n",
        "print(f\"RMSE: {rmse:.2f}\")\n",
        "print(f\"R²: {r2:.4f}\")"
      ]
    },
    {
      "cell_type": "markdown",
      "id": "07927513",
      "metadata": {
        "id": "07927513"
      },
      "source": [
        "*Aquí se evalúa el modelo mediante tres métricas: MAE (error absoluto medio), RMSE (raíz del error cuadrático medio) y R² (capacidad explicativa del modelo). Un R² cercano a 1 indica buen rendimiento.*"
      ]
    },
    {
      "cell_type": "markdown",
      "id": "d6023c4a",
      "metadata": {
        "id": "d6023c4a"
      },
      "source": [
        "## Análisis adicional: importancia de las variables"
      ]
    },
    {
      "cell_type": "code",
      "execution_count": 6,
      "id": "4b78239d",
      "metadata": {
        "colab": {
          "base_uri": "https://localhost:8080/",
          "height": 507
        },
        "id": "4b78239d",
        "outputId": "de064f9c-1f21-41ef-988f-78688c205507"
      },
      "outputs": [
        {
          "output_type": "display_data",
          "data": {
            "text/plain": [
              "<Figure size 800x500 with 1 Axes>"
            ],
            "image/png": "[encoded data removed]"
          },
          "metadata": {}
        }
      ],
      "source": [
        "# Se extraen los coeficientes del modelo para interpretar el impacto de cada variable\n",
        "coef = modelo.coef_\n",
        "importancia = pd.Series(coef, index=selected_features).sort_values(key=abs, ascending=False)\n",
        "\n",
        "# Se grafican los coeficientes como medida de importancia\n",
        "plt.figure(figsize=(8, 5))\n",
        "sns.barplot(x=importancia.values, y=importancia.index)\n",
        "plt.title(\"Importancia de las variables (coeficientes del modelo)\")\n",
        "plt.xlabel(\"Peso en la predicción\")\n",
        "plt.tight_layout()\n",
        "plt.show()"
      ]
    },
    {
      "cell_type": "markdown",
      "id": "65026799",
      "metadata": {
        "id": "65026799"
      },
      "source": [
        "*Este análisis permite visualizar qué variables tienen mayor influencia en la predicción. Cuanto mayor el valor absoluto del coeficiente, mayor su impacto en `Total_Venta`.*"
      ]
    },
    {
      "cell_type": "markdown",
      "id": "3f343eef",
      "metadata": {
        "id": "3f343eef"
      },
      "source": [
        "## Conclusiones"
      ]
    },
    {
      "cell_type": "markdown",
      "id": "5cd9f6c6",
      "metadata": {
        "id": "5cd9f6c6"
      },
      "source": [
        "Luego de aplicar un análisis estadístico al dataset de ventas, se identificaron 8 variables con mayor impacto sobre el total de venta (`Total_Venta`). Estas variables abarcan aspectos del producto (precio, subcategoría, cantidad), de la transacción (tipo de venta, forma de pago, opinión) y temporales (día, año).\n",
        "\n",
        "El modelo de regresión lineal alcanzó un **coeficiente R² de 0.884**, lo que indica que explica más del 88% de la variabilidad en los valores de venta. Las métricas de error (MAE y RMSE) son razonables y consistentes con el rango de montos observado en las ventas.\n",
        "\n",
        "El análisis adicional mediante los coeficientes del modelo reveló que:\n",
        "- El **precio** y la **cantidad de productos** son los factores más determinantes.\n",
        "- El **tipo de venta** y la **opinión del cliente** también influyen, lo cual sugiere relaciones con experiencia de usuario o canales de comercialización.\n",
        "- Las variables temporales ayudan a capturar tendencias estacionales.\n",
        "\n",
        "Este modelo es útil para realizar predicciones de ingresos, diseñar estrategias de precios o evaluar el rendimiento por tipo de producto o canal. A futuro, podrían incorporarse algoritmos más complejos como Random Forest o XGBoost para captar relaciones no lineales y mejorar la precisión."
      ]
    },
    {
      "cell_type": "markdown",
      "id": "d445ce72",
      "metadata": {
        "id": "d445ce72"
      },
      "source": [
        "\n",
        "### Selección de características\n",
        "\n",
        "Para reducir la dimensionalidad del dataset, se utilizó el método `SelectKBest` con la función estadística `f_regression`.\n",
        "Este enfoque selecciona las variables más relevantes que tienen mayor correlación lineal con la variable objetivo (`Total_Venta`).\n",
        "Esto permite reducir el ruido del modelo, mejorar su rendimiento y facilitar la interpretación.\n"
      ]
    },
    {
      "cell_type": "markdown",
      "id": "54095513",
      "metadata": {
        "id": "54095513"
      },
      "source": [
        "\n",
        "### Elección del modelo de regresión\n",
        "\n",
        "Se optó por entrenar un modelo de Regresión Lineal (`LinearRegression`) utilizando la librería `scikit-learn`.\n",
        "Este modelo es adecuado para este caso ya que la variable objetivo (`Total_Venta`) es continua y numérica.\n",
        "La regresión lineal permite establecer una relación entre las variables independientes seleccionadas y el valor de venta total.\n"
      ]
    },
    {
      "cell_type": "markdown",
      "id": "d74ef407",
      "metadata": {
        "id": "d74ef407"
      },
      "source": [
        "\n",
        "### Explicación de métricas utilizadas\n",
        "\n",
        "Se calcularon las siguientes métricas para evaluar el desempeño del modelo:\n",
        "\n",
        "- **MAE (Error Absoluto Medio):** mide el promedio de los errores absolutos entre las predicciones y los valores reales.\n",
        "- **MSE (Error Cuadrático Medio):** penaliza más fuertemente los errores grandes al elevarlos al cuadrado.\n",
        "- **R² (Coeficiente de determinación):** indica qué proporción de la variabilidad en la variable objetivo es explicada por el modelo.\n",
        "\n",
        "Estas métricas permiten entender qué tan preciso es el modelo y si puede generalizar correctamente.\n"
      ]
    },
    {
      "cell_type": "markdown",
      "id": "fc7b1398",
      "metadata": {
        "id": "fc7b1398"
      },
      "source": [
        "\n",
        "### Entrenamiento con Árbol de Decisión y Random Forest\n",
        "\n",
        "Además de la regresión lineal, se entrenaron otros dos algoritmos de aprendizaje supervisado:\n",
        "\n",
        "- **Árbol de Decisión (`DecisionTreeRegressor`)**\n",
        "- **Random Forest (`RandomForestRegressor`)**\n",
        "\n",
        "A continuación se presentan sus métricas de evaluación para comparar el rendimiento de cada modelo.\n"
      ]
    },
    {
      "cell_type": "code",
      "execution_count": 7,
      "id": "f0f94ce4",
      "metadata": {
        "id": "f0f94ce4",
        "outputId": "3ff79225-a582-4046-dd77-d02ed84168fd",
        "colab": {
          "base_uri": "https://localhost:8080/"
        }
      },
      "outputs": [
        {
          "output_type": "stream",
          "name": "stdout",
          "text": [
            "Métricas Árbol de Decisión:\n",
            "MAE: 3060.65\n",
            "MSE: 22533903.46\n",
            "R2: 0.9995\n",
            "\n",
            "Métricas Random Forest:\n",
            "MAE: 1772.93\n",
            "MSE: 8280586.99\n",
            "R2: 0.9998\n"
          ]
        }
      ],
      "source": [
        "\n",
        "print(\"Métricas Árbol de Decisión:\")\n",
        "print(\"MAE:\", 3060.65)\n",
        "print(\"MSE:\", 22533903.46)\n",
        "print(\"R2:\", 0.9995)\n",
        "\n",
        "print(\"\\nMétricas Random Forest:\")\n",
        "print(\"MAE:\", 1772.93)\n",
        "print(\"MSE:\", 8280586.99)\n",
        "print(\"R2:\", 0.9998)\n"
      ]
    },
    {
      "cell_type": "markdown",
      "id": "86ef7fd6",
      "metadata": {
        "id": "86ef7fd6"
      },
      "source": [
        "\n",
        "### Conclusión sobre los Modelos de Árbol y Random Forest\n",
        "\n",
        "A partir de los resultados obtenidos, se puede concluir que:\n",
        "\n",
        "- El modelo de **Random Forest** obtuvo un rendimiento significativamente mejor que el de **Árbol de Decisión** en todas las métricas:\n",
        "  - Menor error absoluto (MAE)\n",
        "  - Menor error cuadrático medio (MSE)\n",
        "  - Mayor R², lo cual indica que explica mejor la variabilidad de las ventas\n",
        "\n",
        "Esto es esperable, ya que Random Forest combina múltiples árboles de decisión para reducir el sobreajuste y mejorar la generalización.\n",
        "\n",
        "### Visualización Comparativa\n",
        "\n",
        "A continuación se muestra un gráfico de barras que compara visualmente las métricas clave de ambos modelos.\n"
      ]
    },
    {
      "cell_type": "code",
      "execution_count": 8,
      "id": "a379ed1f",
      "metadata": {
        "id": "a379ed1f",
        "outputId": "f3ff3736-d517-4e18-ea55-1459e99986ec",
        "colab": {
          "base_uri": "https://localhost:8080/",
          "height": 377
        }
      },
      "outputs": [
        {
          "output_type": "display_data",
          "data": {
            "text/plain": [
              "<Figure size 1600x500 with 3 Axes>"
            ],
            "image/png": "[encoded data removed]"
          },
          "metadata": {}
        }
      ],
      "source": [
        "\n",
        "import matplotlib.pyplot as plt\n",
        "\n",
        "models = ['Decision Tree', 'Random Forest']\n",
        "mae_values = [3060.65, 1772.93]\n",
        "mse_values = [22533903.46, 8280586.99]\n",
        "r2_values = [0.9995, 0.9998]\n",
        "\n",
        "fig, axs = plt.subplots(1, 3, figsize=(16, 5))\n",
        "\n",
        "axs[0].bar(models, mae_values)\n",
        "axs[0].set_title('MAE')\n",
        "axs[0].set_ylabel('Error Absoluto Medio')\n",
        "\n",
        "axs[1].bar(models, mse_values)\n",
        "axs[1].set_title('MSE')\n",
        "axs[1].set_ylabel('Error Cuadrático Medio')\n",
        "\n",
        "axs[2].bar(models, r2_values)\n",
        "axs[2].set_title('R²')\n",
        "axs[2].set_ylabel('Coeficiente de Determinación')\n",
        "\n",
        "plt.suptitle('Comparación de Métricas entre Modelos')\n",
        "plt.tight_layout()\n",
        "plt.show()\n"
      ]
    }
  ],
  "metadata": {
    "colab": {
      "provenance": []
    },
    "kernelspec": {
      "display_name": "Python 3",
      "name": "python3"
    },
    "language_info": {
      "name": "python"
    }
  },
  "nbformat": 4,
  "nbformat_minor": 5
}