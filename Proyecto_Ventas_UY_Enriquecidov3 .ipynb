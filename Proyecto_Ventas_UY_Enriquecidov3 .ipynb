{
  "cells": [
    {
      "cell_type": "markdown",
      "metadata": {},
      "source": [
        "# Proyecto Ciencia de Datos 2 – Ventas (UY)\n",
        "\n",
        "**Enriquecimiento con datos públicos (INE/CKAN + SNIG)**  \n",
        "**Fecha:** 2025-10-23\n",
        "\n",
        "Este notebook está optimizado para **Google Colab**: primero instala dependencias, luego importa librerías,\n",
        "descarga fuentes públicas y enriquece el dataset de ventas con:\n",
        "\n",
        "- `nivel_desarrollo_regional` (población + empresas por departamento como proxy de actividad económica).\n",
        "- `intensidad_mercado` = ventas registradas / población del departamento.\n",
        "\n",
        "Incluye EDA (mapa coroplético, correlaciones, dispersión) y exporta un CSV enriquecido.\n"
      ]
    },
    {
      "cell_type": "markdown",
      "metadata": {},
      "source": [
        "\n",
        "## Abstracto (motivación y audiencia)\n",
        "Explicar diferencias de ventas entre departamentos de Uruguay incorporando contexto regional\n",
        "(**población** e **indicador de actividad económica** por departamento) desde fuentes públicas (INE/CKAN y SNIG).\n",
        "**Audiencia:** ejecutivos y analistas de negocio para orientar mix de productos, pricing, promociones y expansión.\n"
      ]
    },
    {
      "cell_type": "markdown",
      "metadata": {},
      "source": [
        "\n",
        "## Preguntas / Hipótesis\n",
        "1. ¿Las ventas son **proporcionales a la población** del departamento?\n",
        "2. ¿Los departamentos con **mayor actividad económica** (proxy: más empresas) muestran **más ventas**?\n",
        "3. ¿Qué departamentos presentan **mayor intensidad de mercado** (ventas per cápita)?\n",
        "4. ¿Cómo se relaciona un índice simple de **desarrollo regional** (z-score de población y empresas) con las ventas?\n"
      ]
    },
    {
      "cell_type": "markdown",
      "metadata": {},
      "source": [
        "## 1) Instalar dependencias (ejecutar UNA vez por sesión de Colab)"
      ]
    },
    {
      "cell_type": "code",
      "execution_count": null,
      "metadata": {},
      "outputs": [],
      "source": [
        "\n",
        "# Si da error por versiones, volver a ejecutar esta celda y luego las importaciones.\n",
        "!pip install -q pandas numpy requests geopandas pyproj shapely mapclassify matplotlib plotly openpyxl scipy\n"
      ]
    },
    {
      "cell_type": "markdown",
      "metadata": {},
      "source": [
        "## 2) Importar librerías"
      ]
    },
    {
      "cell_type": "code",
      "execution_count": null,
      "metadata": {},
      "outputs": [],
      "source": [
        "\n",
        "import pandas as pd\n",
        "import numpy as np\n",
        "import requests\n",
        "import io\n",
        "import json\n",
        "import matplotlib.pyplot as plt\n",
        "\n",
        "import geopandas as gpd\n",
        "import mapclassify as mc\n",
        "\n",
        "# Ajustes gráficos\n",
        "plt.rcParams[\"figure.figsize\"] = (7,5)\n",
        "plt.rcParams[\"axes.grid\"] = True\n"
      ]
    },
    {
      "cell_type": "markdown",
      "metadata": {},
      "source": [
        "\n",
        "## 3) Fuentes públicas (APIs/descargas)\n",
        "- **Ventas (tu repo):** `https://raw.githubusercontent.com/Gonrampsn4/Proyecto-Ciencia-de-Datos2-Ventas_Ramallo/main/dataset_ventas_3000.csv`\n",
        "- **Población por departamento (CKAN Uruguay, CSV – “Datos básicos de Juntas Departamentales”)**  \n",
        "  `https://catalogodatos.gub.uy/dataset/7e7c97c8-a7cc-4f1f-9c85-a2c25ae28141/resource/5e1cf37b-201e-43b7-a5ba-66ee0e64e4d0/download/datosbasicosjds.csv`\n",
        "- **Empresas por departamento (proxy actividad – Excel público)**  \n",
        "  `https://catalogodatos.gub.uy/dataset/575ccb87-ae74-4dcd-ba4b-cf050bd8e08a/resource/e8e6f2e4-357e-4027-b91a-407b5d5501f7/download/empresasdei_20230330.xlsx`\n",
        "- **Geometría de departamentos (ArcGIS SNIG, GeoJSON)**  \n",
        "  `https://web.snig.gub.uy/arcgisserver/rest/services/Uruguay/SNIG_Catastro/MapServer/2/query?where=1%3D1&outFields=Nombre&outSR=4326&f=geojson`\n"
      ]
    },
    {
      "cell_type": "markdown",
      "metadata": {},
      "source": [
        "## 4) Descarga de datos"
      ]
    },
    {
      "cell_type": "code",
      "execution_count": null,
      "metadata": {},
      "outputs": [],
      "source": [
        "\n",
        "ventas_url = \"https://raw.githubusercontent.com/Gonrampsn4/Proyecto-Ciencia-de-Datos2-Ventas_Ramallo/main/dataset_ventas_3000.csv\"\n",
        "poblacion_url = \"https://catalogodatos.gub.uy/dataset/7e7c97c8-a7cc-4f1f-9c85-a2c25ae28141/resource/5e1cf37b-201e-43b7-a5ba-66ee0e64e4d0/download/datosbasicosjds.csv\"\n",
        "empresas_xlsx_url = \"https://catalogodatos.gub.uy/dataset/575ccb87-ae74-4dcd-ba4b-cf050bd8e08a/resource/e8e6f2e4-357e-4027-b91a-407b5d5501f7/download/empresasdei_20230330.xlsx\"\n",
        "departamentos_geojson_url = \"https://web.snig.gub.uy/arcgisserver/rest/services/Uruguay/SNIG_Catastro/MapServer/2/query?where=1%3D1&outFields=Nombre&outSR=4326&f=geojson\"\n",
        "\n",
        "ventas = pd.read_csv(ventas_url)\n",
        "poblacion = pd.read_csv(poblacion_url)\n",
        "\n",
        "emp_resp = requests.get(empresas_xlsx_url)\n",
        "emp_resp.raise_for_status()\n",
        "empresas = pd.read_excel(io.BytesIO(emp_resp.content))\n",
        "\n",
        "geojson = requests.get(departamentos_geojson_url).json()\n",
        "gdf_deptos = gpd.GeoDataFrame.from_features(geojson[\"features\"], crs=\"EPSG:4326\").rename(columns={\"Nombre\":\"Departamento\"})\n",
        "\n",
        "print(\"Ventas:\", ventas.shape)\n",
        "print(\"Población (raw):\", poblacion.shape)\n",
        "print(\"Empresas (raw):\", empresas.shape)\n",
        "print(\"GDF deptos:\", gdf_deptos.shape)\n",
        "\n",
        "display(ventas.head(3))\n",
        "display(poblacion.head(3))\n",
        "display(empresas.head(3))\n",
        "gdf_deptos.head(3)\n"
      ]
    },
    {
      "cell_type": "markdown",
      "metadata": {},
      "source": [
        "## 5) Limpieza y estandarización de Departamentos"
      ]
    },
    {
      "cell_type": "code",
      "execution_count": null,
      "metadata": {},
      "outputs": [],
      "source": [
        "\n",
        "def norm_depto(s):\n",
        "    if pd.isna(s): return s\n",
        "    s = str(s).strip().upper()\n",
        "    repl = {\n",
        "        \"SAN JOS\\u00C9\": \"SAN JOSÉ\",\n",
        "        \"SAN JOSE\": \"SAN JOSÉ\",\n",
        "        \"RIO NEGRO\": \"RÍO NEGRO\",\n",
        "        \"R\\u00CDO NEGRO\": \"RÍO NEGRO\",\n",
        "        \"PAYSANDU\": \"PAYSANDÚ\",\n",
        "        \"PAYSAND\\u00DA\": \"PAYSANDÚ\",\n",
        "        \"TACUAREMBO\": \"TACUAREMBÓ\",\n",
        "        \"TACUAREMB\\u00D3\": \"TACUAREMBÓ\",\n",
        "    }\n",
        "    return repl.get(s, s)\n",
        "\n",
        "# Detectar columna de departamento en ventas\n",
        "dept_cols = [c for c in ventas.columns if c.lower() in [\"departamento\",\"depto\",\"region\",\"provincia\",\"estado\"]]\n",
        "if not dept_cols:\n",
        "    raise ValueError(\"No se encontró columna de departamento en ventas. Renombra o crea 'Departamento'.\")\n",
        "ventas[\"Departamento\"] = ventas[dept_cols[0]].apply(norm_depto)\n",
        "\n",
        "# Normalizar población\n",
        "pop_dept_cols = [c for c in poblacion.columns if \"depar\" in c.lower() or c.lower()==\"departamento\"]\n",
        "if not pop_dept_cols:\n",
        "    raise ValueError(\"CSV de población no posee columna de departamento.\")\n",
        "poblacion[\"Departamento\"] = poblacion[pop_dept_cols[0]].apply(norm_depto)\n",
        "\n",
        "# Identificar columna de población\n",
        "cand_pop = [c for c in poblacion.columns if \"poblac\" in c.lower() or \"habit\" in c.lower()]\n",
        "if not cand_pop:\n",
        "    print(\"Columnas disponibles en 'poblacion':\", list(poblacion.columns))\n",
        "    raise ValueError(\"Indicar manualmente la columna de población en el CSV de población.\")\n",
        "poblacion = poblacion[[\"Departamento\", cand_pop[0]]].rename(columns={cand_pop[0]:\"Poblacion\"})\n",
        "\n",
        "# Empresas: agrupar por departamento\n",
        "emp_dept_cols = [c for c in empresas.columns if \"depar\" in c.lower() or c.lower()==\"departamento\"]\n",
        "if not emp_dept_cols:\n",
        "    print(\"Columnas de 'empresas':\", list(empresas.columns))\n",
        "    raise ValueError(\"Excel de empresas no posee columna de departamento.\")\n",
        "empresas[\"Departamento\"] = empresas[emp_dept_cols[0]].apply(norm_depto)\n",
        "empresas_por_depto = empresas.groupby(\"Departamento\", as_index=False).size().rename(columns={\"size\":\"Empresas\"})\n",
        "\n",
        "contexto_depto = (poblacion.merge(empresas_por_depto, on=\"Departamento\", how=\"left\"))\n",
        "contexto_depto[\"Empresas\"] = contexto_depto[\"Empresas\"].fillna(0).astype(int)\n",
        "contexto_depto.head()\n"
      ]
    },
    {
      "cell_type": "markdown",
      "metadata": {},
      "source": [
        "## 6) Agregación de ventas y nuevas métricas"
      ]
    },
    {
      "cell_type": "code",
      "execution_count": null,
      "metadata": {},
      "outputs": [],
      "source": [
        "\n",
        "# Detectar columna de monto/importe\n",
        "val_cols = [c for c in ventas.columns if any(k in c.lower() for k in [\"monto\",\"importe\",\"total\",\"venta\",\"revenue\",\"price\",\"amount\"])]\n",
        "if not val_cols:\n",
        "    raise ValueError(\"No se encontró columna de monto/importe en ventas.\")\n",
        "monto_col = val_cols[0]\n",
        "print(\"Usando columna de venta:\", monto_col)\n",
        "\n",
        "ventas_depto = (ventas\n",
        "                .groupby(\"Departamento\", as_index=False)\n",
        "                .agg(ventas_total=(monto_col,\"sum\"),\n",
        "                     operaciones=(\"Departamento\",\"count\"),\n",
        "                     ticket_promedio=(monto_col,\"mean\")))\n",
        "\n",
        "panel = ventas_depto.merge(contexto_depto, on=\"Departamento\", how=\"left\")\n",
        "\n",
        "# Nuevas columnas\n",
        "panel[\"intensidad_mercado\"] = panel[\"ventas_total\"] / panel[\"Poblacion\"]\n",
        "\n",
        "from scipy.stats import zscore\n",
        "panel[\"z_pop\"] = zscore(panel[\"Poblacion\"].fillna(panel[\"Poblacion\"].median()))\n",
        "panel[\"z_emp\"] = zscore(panel[\"Empresas\"].fillna(panel[\"Empresas\"].median()))\n",
        "panel[\"nivel_desarrollo_regional\"] = (panel[\"z_pop\"] + panel[\"z_emp\"]) / 2.0\n",
        "\n",
        "panel.sort_values(\"ventas_total\", ascending=False).head()\n"
      ]
    },
    {
      "cell_type": "markdown",
      "metadata": {},
      "source": [
        "## 7) EDA: correlaciones y dispersión"
      ]
    },
    {
      "cell_type": "code",
      "execution_count": null,
      "metadata": {},
      "outputs": [],
      "source": [
        "\n",
        "num_cols = [\"ventas_total\",\"operaciones\",\"ticket_promedio\",\"Poblacion\",\"Empresas\",\"intensidad_mercado\",\"nivel_desarrollo_regional\"]\n",
        "corr = panel[num_cols].corr(numeric_only=True)\n",
        "\n",
        "plt.figure()\n",
        "plt.imshow(corr, interpolation='nearest')\n",
        "plt.xticks(range(len(num_cols)), num_cols, rotation=45, ha=\"right\")\n",
        "plt.yticks(range(len(num_cols)), num_cols)\n",
        "plt.colorbar()\n",
        "plt.title(\"Matriz de correlaciones\")\n",
        "plt.tight_layout()\n",
        "plt.show()\n",
        "\n",
        "plt.figure()\n",
        "plt.scatter(panel[\"Empresas\"], panel[\"ventas_total\"])\n",
        "plt.xlabel(\"Empresas (proxy actividad)\")\n",
        "plt.ylabel(\"Ventas totales\")\n",
        "plt.title(\"Ventas vs. Empresas por departamento\")\n",
        "plt.tight_layout()\n",
        "plt.show()\n"
      ]
    },
    {
      "cell_type": "markdown",
      "metadata": {},
      "source": [
        "## 8) Mapa coroplético: intensidad de mercado"
      ]
    },
    {
      "cell_type": "code",
      "execution_count": null,
      "metadata": {},
      "outputs": [],
      "source": [
        "\n",
        "gdf_deptos[\"Departamento\"] = gdf_deptos[\"Departamento\"].str.upper()\n",
        "gdf_deptos[\"Departamento\"] = (gdf_deptos[\"Departamento\"]\n",
        "                              .str.replace(\"RIO NEGRO\",\"RÍO NEGRO\", regex=False)\n",
        "                              .str.replace(\"PAYSANDU\",\"PAYSANDÚ\", regex=False)\n",
        "                              .str.replace(\"TACUAREMBO\",\"TACUAREMBÓ\", regex=False)\n",
        "                              .str.replace(\"SAN JOSE\",\"SAN JOSÉ\", regex=False))\n",
        "\n",
        "gdf_panel = gdf_deptos.merge(panel, on=\"Departamento\", how=\"left\")\n",
        "\n",
        "ax = gdf_panel.plot(column=\"intensidad_mercado\",\n",
        "                    legend=True, figsize=(7,7),\n",
        "                    scheme=\"Quantiles\", k=5, linewidth=0.5, edgecolor=\"black\")\n",
        "ax.set_title(\"Intensidad de mercado (ventas per cápita) por departamento\")\n",
        "ax.axis(\"off\")\n",
        "plt.show()\n"
      ]
    },
    {
      "cell_type": "markdown",
      "metadata": {},
      "source": [
        "## 9) Exportar CSV enriquecido"
      ]
    },
    {
      "cell_type": "code",
      "execution_count": null,
      "metadata": {},
      "outputs": [],
      "source": [
        "\n",
        "output_csv = \"ventas_enriquecidas_uy.csv\"\n",
        "panel.to_csv(output_csv, index=False, encoding=\"utf-8\")\n",
        "print(f\"Archivo exportado: {output_csv}\")\n"
      ]
    },
    {
      "cell_type": "markdown",
      "metadata": {},
      "source": [
        "\n",
        "## Insights (completar tras ejecutar)\n",
        "- Departamentos líderes por **ventas per cápita**.\n",
        "- Relación **Ventas ~ Empresas** (fuerza de correlación).\n",
        "- Cambios de ranking usando **nivel de desarrollo regional**.\n",
        "- Recomendaciones: productos, promociones, cobertura.\n"
      ]
    }
  ],
  "metadata": {
    "kernelspec": {
      "display_name": "Python 3",
      "language": "python",
      "name": "python3"
    },
    "language_info": {
      "name": "python",
      "version": "3.x"
    }
  },
  "nbformat": 4,
  "nbformat_minor": 5
}